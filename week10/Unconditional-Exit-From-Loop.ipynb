{
 "cells": [
  {
   "cell_type": "markdown",
   "metadata": {},
   "source": [
    "## Оператори за преждевременно излизане от цикъл\n",
    "\n",
    "### Опеатор break\n",
    "\n",
    "Операторът break се използва за преждевременно излизане от цикъл,\n",
    "преди той да е завършил изпълнението си по естествения си начин. При\n",
    "срещане на оператора break цикълът се прекратява и изпълнението на\n",
    "програмата продължава от следващия ред веднага след тялото на цикъла.\n",
    "Прекратяването на цикъл с оператора break може да стане само от\n",
    "неговото тяло, когато то се изпълнява в поредната итерация на цикъла.\n",
    "Когато break се изпълни кодът след него в тялото на цикъла се прескача\n",
    "и не се изпълнява."
   ]
  },
  {
   "cell_type": "code",
   "execution_count": 7,
   "metadata": {
    "collapsed": false
   },
   "outputs": [
    {
     "name": "stdout",
     "output_type": "stream",
     "text": [
      "1\n",
      "2\n",
      "3\n",
      "4\n",
      "5\n"
     ]
    }
   ],
   "source": [
    "counter = 1\n",
    "while counter <= 10:\n",
    "    print(counter)\n",
    "    if counter == 5:\n",
    "        break\n",
    "    counter = counter + 1"
   ]
  },
  {
   "cell_type": "markdown",
   "metadata": {},
   "source": [
    "### Оператор continue\n",
    "Операторът continue спира текущата итерация на най-вътрешния цикъл,\n",
    "без да излиза от него."
   ]
  },
  {
   "cell_type": "code",
   "execution_count": 4,
   "metadata": {
    "collapsed": false
   },
   "outputs": [
    {
     "name": "stdout",
     "output_type": "stream",
     "text": [
      "1\n",
      "3\n",
      "5\n",
      "7\n",
      "9\n"
     ]
    }
   ],
   "source": [
    "counter = 0\n",
    "while counter < 10:\n",
    "    counter = counter + 1\n",
    "    if counter % 2 == 0:\n",
    "        continue\n",
    "    print(counter)"
   ]
  }
 ],
 "metadata": {
  "kernelspec": {
   "display_name": "Python 3",
   "language": "python",
   "name": "python3"
  },
  "language_info": {
   "codemirror_mode": {
    "name": "ipython",
    "version": 3
   },
   "file_extension": ".py",
   "mimetype": "text/x-python",
   "name": "python",
   "nbconvert_exporter": "python",
   "pygments_lexer": "ipython3",
   "version": "3.4.3"
  }
 },
 "nbformat": 4,
 "nbformat_minor": 0
}
