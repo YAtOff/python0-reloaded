{
 "cells": [
  {
   "cell_type": "markdown",
   "metadata": {},
   "source": [
    "### Какво е \"цикъл\"?\n",
    "В програмирането често се налага многократно изпълнение на дадена\n",
    "последователност от операции.  \n",
    "Цикъл (loop) е основна конструкция в програмирането, която позволява  \n",
    "многократно изпълнение на даден фрагмент сорс код.  \n",
    "В зависимост от вида на цикъла, програмният код в него се  \n",
    "повтаря или фиксиран брой пъти или докато е в сила дадено условие."
   ]
  },
  {
   "cell_type": "code",
   "execution_count": 4,
   "metadata": {
    "collapsed": false
   },
   "outputs": [
    {
     "name": "stdout",
     "output_type": "stream",
     "text": [
      "1\n",
      "2\n",
      "3\n",
      "4\n",
      "5\n",
      "6\n",
      "7\n",
      "8\n",
      "9\n",
      "10\n",
      "end\n"
     ]
    }
   ],
   "source": [
    "counter = 1\n",
    "while counter <= 10:\n",
    "    print(counter)\n",
    "    counter = counter + 1\n",
    "    \n",
    "print(\"end\")"
   ]
  },
  {
   "cell_type": "markdown",
   "metadata": {},
   "source": [
    "*Упражнение*: Напишете програма, която пресмята произведението на числата от 1 до 5."
   ]
  },
  {
   "cell_type": "code",
   "execution_count": 7,
   "metadata": {
    "collapsed": false
   },
   "outputs": [
    {
     "name": "stdout",
     "output_type": "stream",
     "text": [
      "counter:  1\n",
      "product:  1\n",
      "counter:  2\n",
      "product:  2\n",
      "counter:  3\n",
      "product:  6\n",
      "counter:  4\n",
      "product:  24\n",
      "counter:  5\n",
      "product:  120\n",
      "120\n"
     ]
    }
   ],
   "source": [
    "counter = 1\n",
    "product = 1\n",
    "while counter <= 5:\n",
    "    product = product * counter\n",
    "    print(\"counter: \", counter)\n",
    "    print(\"product: \", product)\n",
    "    counter = counter + 1\n",
    "    \n",
    "print(product)\n",
    "    "
   ]
  },
  {
   "cell_type": "markdown",
   "metadata": {},
   "source": [
    "*Упражнение*: Напишете програма, която пресмята произведението на четните числа от 1 до 5."
   ]
  },
  {
   "cell_type": "code",
   "execution_count": 1,
   "metadata": {
    "collapsed": false
   },
   "outputs": [
    {
     "name": "stdout",
     "output_type": "stream",
     "text": [
      "even\n"
     ]
    }
   ],
   "source": [
    "a = 2\n",
    "if a % 2 == 0:\n",
    "    print(\"even\")\n",
    "else:\n",
    "    print(\"odd\")"
   ]
  },
  {
   "cell_type": "code",
   "execution_count": 13,
   "metadata": {
    "collapsed": false
   },
   "outputs": [
    {
     "name": "stdout",
     "output_type": "stream",
     "text": [
      "counter:  1\n",
      "product:  1\n",
      "counter is 2 even\n",
      "product = 1 * 2\n",
      "counter:  2\n",
      "product:  2\n",
      "counter:  3\n",
      "product:  2\n",
      "counter is 4 even\n",
      "product = 2 * 4\n",
      "counter:  4\n",
      "product:  8\n",
      "counter:  5\n",
      "product:  8\n",
      "8\n"
     ]
    }
   ],
   "source": [
    "counter = 1\n",
    "product = 1\n",
    "while counter <= 5:\n",
    "    if counter % 2 == 0:\n",
    "        print(\"counter is %d even\" % counter)\n",
    "        print(\"product = %d * %d\" % (product, counter))\n",
    "        product = product * counter\n",
    "    print(\"counter: \", counter)\n",
    "    print(\"product: \", product)\n",
    "    counter = counter + 1\n",
    "    \n",
    "print(product)"
   ]
  }
 ],
 "metadata": {
  "kernelspec": {
   "display_name": "Python 3",
   "language": "python",
   "name": "python3"
  },
  "language_info": {
   "codemirror_mode": {
    "name": "ipython",
    "version": 3
   },
   "file_extension": ".py",
   "mimetype": "text/x-python",
   "name": "python",
   "nbconvert_exporter": "python",
   "pygments_lexer": "ipython3",
   "version": "3.4.3"
  }
 },
 "nbformat": 4,
 "nbformat_minor": 0
}
