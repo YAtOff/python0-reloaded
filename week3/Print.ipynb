{
 "cells": [
  {
   "cell_type": "markdown",
   "metadata": {},
   "source": [
    "\n",
    "## `print`"
   ]
  },
  {
   "cell_type": "markdown",
   "metadata": {},
   "source": [
    "Процедурата `print` приема 1 или повече аргумента и ги извежда на екрана разделени разделени със интервал.  \n",
    "След изпълнението на и курсурът минава на следващия ред.\n",
    "Аргументите може да бъдат от различни типове."
   ]
  },
  {
   "cell_type": "code",
   "execution_count": 25,
   "metadata": {
    "collapsed": false
   },
   "outputs": [
    {
     "name": "stdout",
     "output_type": "stream",
     "text": [
      "2\n",
      "is even.\n",
      "2 is even.\n"
     ]
    }
   ],
   "source": [
    "print(2)\n",
    "print(\"is even.\")\n",
    "print(2, \"is even.\")"
   ]
  },
  {
   "cell_type": "markdown",
   "metadata": {},
   "source": [
    "Можем да променим разделителя като добавим аргумент `sep='<<разделител>>'`."
   ]
  },
  {
   "cell_type": "code",
   "execution_count": 27,
   "metadata": {
    "collapsed": false
   },
   "outputs": [
    {
     "name": "stdout",
     "output_type": "stream",
     "text": [
      "1 2 3\n",
      "1|2|3\n"
     ]
    }
   ],
   "source": [
    "print(1, 2, 3)\n",
    "print(1, 2, 3, sep='|')"
   ]
  },
  {
   "cell_type": "markdown",
   "metadata": {},
   "source": [
    "По подразбиране `print` поставя символ за край на реда след като изведе задацените данни.\n",
    "Това може да се промени като се добави аргумент `end='<<символ в края на реда>>'`."
   ]
  },
  {
   "cell_type": "code",
   "execution_count": 28,
   "metadata": {
    "collapsed": false
   },
   "outputs": [
    {
     "name": "stdout",
     "output_type": "stream",
     "text": [
      "1\n",
      "2\n",
      "3\n",
      "1 2 3 "
     ]
    }
   ],
   "source": [
    "print(1)\n",
    "print(2)\n",
    "print(3)\n",
    "print(1, end=' ')\n",
    "print(2, end=' ')\n",
    "print(3, end=' ')"
   ]
  },
  {
   "cell_type": "markdown",
   "metadata": {},
   "source": [
    "#### Форматиране на символни низове\n",
    "Можем да създаваме символни низове от шаблони.  \n",
    "В шаблона думите състоящи се от `%d` ще бъдат заместени от подадено цяло число.  \n",
    "Думите състоящи се от `%s` ще бъдат заместени от подадено символен низ."
   ]
  },
  {
   "cell_type": "code",
   "execution_count": 31,
   "metadata": {
    "collapsed": false
   },
   "outputs": [
    {
     "name": "stdout",
     "output_type": "stream",
     "text": [
      "3 is odd, 4 is even\n",
      "Hello Pesho!\n"
     ]
    }
   ],
   "source": [
    "print('%d is odd, %d is even' % (3, 4))\n",
    "print('Hello %s!' % 'Pesho')"
   ]
  }
 ],
 "metadata": {
  "kernelspec": {
   "display_name": "Python 3",
   "language": "python",
   "name": "python3"
  },
  "language_info": {
   "codemirror_mode": {
    "name": "ipython",
    "version": 3
   },
   "file_extension": ".py",
   "mimetype": "text/x-python",
   "name": "python",
   "nbconvert_exporter": "python",
   "pygments_lexer": "ipython3",
   "version": "3.4.3"
  }
 },
 "nbformat": 4,
 "nbformat_minor": 0
}
