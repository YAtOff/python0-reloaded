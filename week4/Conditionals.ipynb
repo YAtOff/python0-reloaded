{
 "cells": [
  {
   "cell_type": "markdown",
   "metadata": {},
   "source": [
    "## Условен оператор (if)\n",
    "\n",
    "Условният оператор променя поведението на програмата, на базата на условие.\n",
    "\n",
    "Ако условието, подадено на условният оператор е вярно, се изпълнява блока от код  \n",
    "на следвщия ред (който трябва да е с един таб навътре).\n",
    "\n",
    "Използвайки операциите за сравнение\n",
    "- `<`\n",
    "- `>`\n",
    "- `==`\n",
    "- `!=`\n",
    "- `<=`\n",
    "- `>=`\n",
    "\n",
    "попълнете празните места, така че да се изпише:\n",
    "\n",
    "    a is greater then b\n",
    "    a is less than b\n",
    "    a is equal to b\n",
    "    a is not equal to b\n"
   ]
  },
  {
   "cell_type": "code",
   "execution_count": 1,
   "metadata": {
    "collapsed": false,
    "scrolled": true
   },
   "outputs": [
    {
     "name": "stdout",
     "output_type": "stream",
     "text": [
      "a is greater then b\n",
      "a is less than b\n",
      "a is equal to b\n",
      "a is not equal to b\n"
     ]
    }
   ],
   "source": [
    "a = 2\n",
    "b = 1\n",
    "if a > b:\n",
    "    print('a is greater then b')\n",
    "\n",
    "a = 1\n",
    "b = 2\n",
    "if a < b:\n",
    "    print('a is less than b')\n",
    "\n",
    "a = 1\n",
    "b = 1\n",
    "if a == b:\n",
    "    print('a is equal to b')\n",
    "\n",
    "a = 1\n",
    "b = 2\n",
    "if a != b:\n",
    "    print('a is not equal to b')\n"
   ]
  },
  {
   "cell_type": "markdown",
   "metadata": {},
   "source": [
    "Ако изслвдваме два възможни случая, трябва да използваме `if - else` конструкция."
   ]
  },
  {
   "cell_type": "code",
   "execution_count": 2,
   "metadata": {
    "collapsed": false
   },
   "outputs": [
    {
     "name": "stdout",
     "output_type": "stream",
     "text": [
      "a is not equal to b\n"
     ]
    }
   ],
   "source": [
    "a = 1\n",
    "b = 2\n",
    "if a == b:\n",
    "    print('a is equal to b')\n",
    "else:\n",
    "    print('a is not equal to b')"
   ]
  },
  {
   "cell_type": "markdown",
   "metadata": {},
   "source": [
    "За повече от два - можем да добавим нов случай с `elif`."
   ]
  },
  {
   "cell_type": "code",
   "execution_count": 3,
   "metadata": {
    "collapsed": false
   },
   "outputs": [
    {
     "name": "stdout",
     "output_type": "stream",
     "text": [
      "basic\n"
     ]
    }
   ],
   "source": [
    "ph = 6.5\n",
    "if ph > 7:\n",
    "    print('acidic')\n",
    "elif ph < 7:\n",
    "    print('basic')\n",
    "else:\n",
    "    print('neutral')\n"
   ]
  },
  {
   "cell_type": "markdown",
   "metadata": {},
   "source": [
    "`if` конструкциите могат да се влагат една в друга."
   ]
  },
  {
   "cell_type": "code",
   "execution_count": 8,
   "metadata": {
    "collapsed": false
   },
   "outputs": [
    {
     "name": "stdout",
     "output_type": "stream",
     "text": [
      "normal working day\n"
     ]
    }
   ],
   "source": [
    "today = 'monday'\n",
    "bank_balance = 100\n",
    "if today == 'holiday':\n",
    "   if 2000 < bank_balance:\n",
    "      print('Go for shopping')\n",
    "   else:\n",
    "      print('Watch TV')\n",
    "else:\n",
    "   print('normal working day')"
   ]
  }
 ],
 "metadata": {
  "kernelspec": {
   "display_name": "Python 3",
   "language": "python",
   "name": "python3"
  },
  "language_info": {
   "codemirror_mode": {
    "name": "ipython",
    "version": 3
   },
   "file_extension": ".py",
   "mimetype": "text/x-python",
   "name": "python",
   "nbconvert_exporter": "python",
   "pygments_lexer": "ipython3",
   "version": "3.4.3"
  }
 },
 "nbformat": 4,
 "nbformat_minor": 0
}
