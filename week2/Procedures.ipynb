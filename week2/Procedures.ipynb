{
 "cells": [
  {
   "cell_type": "markdown",
   "metadata": {},
   "source": [
    "### Дефиниране на процедура\n",
    "\n",
    "```\n",
    "def <<име на процедура>>(<<параметри>>):\n",
    "    <<тяло на процедура>>\n",
    "```"
   ]
  },
  {
   "cell_type": "code",
   "execution_count": 1,
   "metadata": {
    "collapsed": false
   },
   "outputs": [
    {
     "name": "stdout",
     "output_type": "stream",
     "text": [
      "2\n",
      "4\n"
     ]
    }
   ],
   "source": [
    "# дефиниране\n",
    "def print_sum(a, b):\n",
    "    sum = a + b\n",
    "    print(sum)\n",
    "    \n",
    "# извикване\n",
    "print_sum(1, 1)\n",
    "\n",
    "# извикване с други параметри\n",
    "print_sum(2, 2)"
   ]
  }
 ],
 "metadata": {
  "kernelspec": {
   "display_name": "Python 3",
   "language": "python",
   "name": "python3"
  },
  "language_info": {
   "codemirror_mode": {
    "name": "ipython",
    "version": 3
   },
   "file_extension": ".py",
   "mimetype": "text/x-python",
   "name": "python",
   "nbconvert_exporter": "python",
   "pygments_lexer": "ipython3",
   "version": "3.4.3"
  }
 },
 "nbformat": 4,
 "nbformat_minor": 0
}
