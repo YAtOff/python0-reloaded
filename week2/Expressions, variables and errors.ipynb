{
 "cells": [
  {
   "cell_type": "markdown",
   "metadata": {},
   "source": [
    "## Изрази\n",
    "Изразите в Python са като изразите в математиката.  \n",
    "Всеки изразе е изграден от сотйности (като напр. числата 1, 2, 3, ...) и оператори (+, -, ...).\n",
    "\n",
    "## Типове\n",
    "Всяка стойност се характеризира с определн тип.\n",
    "А типът е:\n",
    "- Множеството от стойности\n",
    "- Множество от операции, които могат да се извършват с тези стойности\n",
    "\n",
    "### Целочислени числа (тип int)\n",
    "сотйности | операции\n",
    "--- | ---\n",
    "    ..., -3, -2, -1, 0, 1, 2, 3, ...| +, -, *, /, //, %, **\n",
    "    \n",
    "###  Реални числа (Числа с плаваща запетая, float)\n",
    "сотйности | операции\n",
    "--- | ---\n",
    " -0.1, -0.11, ..., 0.0, ..., 0.1, ... | +, -, *, /, //, %, **\n",
    " \n",
    " ### Числови низове (тип str)\n",
    " сотйности | операции\n",
    "--- | ---\n",
    "\"hello\", \"goodbye\", ... | +\n",
    " \n",
    " ## Приоритет на операциите\n",
    "1. **\n",
    "2. -\n",
    "3. *, /, //, %\n",
    "4. +, - "
   ]
  },
  {
   "cell_type": "code",
   "execution_count": 8,
   "metadata": {
    "collapsed": false
   },
   "outputs": [
    {
     "data": {
      "text/plain": [
       "8"
      ]
     },
     "execution_count": 8,
     "metadata": {},
     "output_type": "execute_result"
    }
   ],
   "source": [
    "2 * 3 + 2"
   ]
  },
  {
   "cell_type": "code",
   "execution_count": 10,
   "metadata": {
    "collapsed": false
   },
   "outputs": [
    {
     "data": {
      "text/plain": [
       "10"
      ]
     },
     "execution_count": 10,
     "metadata": {},
     "output_type": "execute_result"
    }
   ],
   "source": [
    "2 * (3 + 2)"
   ]
  },
  {
   "cell_type": "markdown",
   "metadata": {},
   "source": [
    "## Променливи\n",
    "Променливата е име,с което се асоциира дадена стойност.\n",
    "\n",
    "### Валидни имена на променливи\n",
    "- Името на променлива може да съдържа главни и малки букви, цифри и символът `_`.\n",
    "- Името на променлива трябва да започва с буква или `_`.\n",
    "- За имена на променливи не може да се използват служебни думи от Python.\n",
    "\n",
    "### Препоръки за именуване на променливи\n",
    "\n",
    "- Имената трябва да са описателни и да обясняват за какво служи\n",
    "дадената променлива. Например за име на човек подходящо име е\n",
    "`person_name`, а неподходящо име е `x`.\n",
    "- Трябва да се използват само латински букви.\n",
    "- В Python e прието променливите да започват винаги с малка буква и да\n",
    "съдържат само малки букви, като всяка следваща дума в тях е разделе от\n",
    "предходната със символа `_`.\n",
    "- Името на променливите трябва да не е нито много дълго, нито много\n",
    "късо – просто трябва да е ясно за какво служи променливата в\n",
    "контекста, в който се използва.\n",
    "- Трябва да се внимава за главни и малки букви, тъй като Python прави\n",
    "разлика между тях. Например age и Age са различни променливи.\n",
    "\n",
    "### Работа с променливи"
   ]
  },
  {
   "cell_type": "code",
   "execution_count": 19,
   "metadata": {
    "collapsed": false
   },
   "outputs": [],
   "source": [
    "c = 10  # number of coins - прекалени късо\n",
    "number_of_coins = 10 # прекалино детайлно име\n",
    "coinsCount = 10  # ОК, но за Java\n",
    "coins_count = 10  # OK"
   ]
  },
  {
   "cell_type": "code",
   "execution_count": 1,
   "metadata": {
    "collapsed": false,
    "scrolled": false
   },
   "outputs": [
    {
     "name": "stdout",
     "output_type": "stream",
     "text": [
      "2\n",
      "3\n"
     ]
    }
   ],
   "source": [
    "# Задаването на стойност на променлива се нарича `присвояване`\n",
    "count = 1\n",
    "\n",
    "# Когато Python срещне променлива в израз, той я заменя със стойността и\n",
    "print(count + 1)\n",
    "\n",
    "# Променливите се наричат променливи, защото стойността им може да се променя\n",
    "count = 2\n",
    "print(count + 1)"
   ]
  },
  {
   "cell_type": "markdown",
   "metadata": {},
   "source": [
    "Какво трябва да напишем, за да увеличим стойността на `count` с 1 (приемете, че не знаем каква е стойността на `count`)?"
   ]
  },
  {
   "cell_type": "code",
   "execution_count": 17,
   "metadata": {
    "collapsed": false
   },
   "outputs": [
    {
     "name": "stdout",
     "output_type": "stream",
     "text": [
      "2\n"
     ]
    }
   ],
   "source": [
    "count = 1\n",
    "count = count + 1\n",
    "print(count)"
   ]
  },
  {
   "cell_type": "markdown",
   "metadata": {},
   "source": [
    "## Грешки"
   ]
  },
  {
   "cell_type": "code",
   "execution_count": 4,
   "metadata": {
    "collapsed": false
   },
   "outputs": [
    {
     "ename": "SyntaxError",
     "evalue": "invalid syntax (<ipython-input-4-d517092e5949>, line 1)",
     "output_type": "error",
     "traceback": [
      "\u001b[1;36m  File \u001b[1;32m\"<ipython-input-4-d517092e5949>\"\u001b[1;36m, line \u001b[1;32m1\u001b[0m\n\u001b[1;33m    my var = 1\u001b[0m\n\u001b[1;37m         ^\u001b[0m\n\u001b[1;31mSyntaxError\u001b[0m\u001b[1;31m:\u001b[0m invalid syntax\n"
     ]
    }
   ],
   "source": [
    "my var = 1"
   ]
  },
  {
   "cell_type": "code",
   "execution_count": 5,
   "metadata": {
    "collapsed": false
   },
   "outputs": [
    {
     "ename": "NameError",
     "evalue": "name 'pirce' is not defined",
     "output_type": "error",
     "traceback": [
      "\u001b[1;31m---------------------------------------------------------------------------\u001b[0m",
      "\u001b[1;31mNameError\u001b[0m                                 Traceback (most recent call last)",
      "\u001b[1;32m<ipython-input-5-446dcba40c51>\u001b[0m in \u001b[0;36m<module>\u001b[1;34m()\u001b[0m\n\u001b[0;32m      1\u001b[0m \u001b[0mprice\u001b[0m \u001b[1;33m=\u001b[0m \u001b[1;36m1\u001b[0m\u001b[1;33m\u001b[0m\u001b[0m\n\u001b[1;32m----> 2\u001b[1;33m \u001b[0mprint\u001b[0m\u001b[1;33m(\u001b[0m\u001b[0mpirce\u001b[0m\u001b[1;33m)\u001b[0m\u001b[1;33m\u001b[0m\u001b[0m\n\u001b[0m",
      "\u001b[1;31mNameError\u001b[0m: name 'pirce' is not defined"
     ]
    }
   ],
   "source": [
    "price = 1\n",
    "print(pirce)"
   ]
  }
 ],
 "metadata": {
  "kernelspec": {
   "display_name": "Python 3",
   "language": "python",
   "name": "python3"
  },
  "language_info": {
   "codemirror_mode": {
    "name": "ipython",
    "version": 3
   },
   "file_extension": ".py",
   "mimetype": "text/x-python",
   "name": "python",
   "nbconvert_exporter": "python",
   "pygments_lexer": "ipython3",
   "version": "3.4.3"
  }
 },
 "nbformat": 4,
 "nbformat_minor": 0
}
